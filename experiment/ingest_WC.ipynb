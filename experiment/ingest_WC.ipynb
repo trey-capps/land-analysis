{
 "cells": [
  {
   "cell_type": "code",
   "execution_count": 49,
   "metadata": {},
   "outputs": [],
   "source": [
    "import boto3\n",
    "import json\n",
    "import os\n",
    "import argparse\n",
    "import pyspark\n",
    "from pyspark.sql import SparkSession\n",
    "import tabula\n",
    "import pandas as pd\n",
    "from dbfread import DBF"
   ]
  },
  {
   "cell_type": "code",
   "execution_count": 11,
   "metadata": {},
   "outputs": [],
   "source": [
    "# Load Credentials\n",
    "with open(\"credentials.json\", \"r\") as cred:\n",
    "    credentials = json.load(cred)\n",
    "    ACCESS_ID = credentials[\"accessKeyID\"]\n",
    "    SECRET_KEY = credentials[\"secretAccessKey\"]"
   ]
  },
  {
   "cell_type": "code",
   "execution_count": 15,
   "metadata": {},
   "outputs": [],
   "source": [
    "#Create Session\n",
    "session = boto3.Session(\n",
    "    aws_access_key_id = ACCESS_ID,\n",
    "    aws_secret_access_key = SECRET_KEY\n",
    ")"
   ]
  },
  {
   "cell_type": "code",
   "execution_count": 16,
   "metadata": {},
   "outputs": [],
   "source": [
    "s3 = session.resource(\"s3\")\n",
    "bucket = s3.Bucket(\"land-finder-cig\")"
   ]
  },
  {
   "cell_type": "code",
   "execution_count": null,
   "metadata": {},
   "outputs": [],
   "source": [
    "def convert_dbf(file):\n",
    "    dbf = DBF(file)\n",
    "    df = pd.DataFrame(iter(dbf))\n",
    "    \n",
    "    return df"
   ]
  },
  {
   "cell_type": "code",
   "execution_count": null,
   "metadata": {},
   "outputs": [],
   "source": [
    "def convert_excel(file):\n",
    "    df = pd.read_excel(file)\n",
    "    \n",
    "    return df"
   ]
  },
  {
   "cell_type": "code",
   "execution_count": 68,
   "metadata": {},
   "outputs": [],
   "source": [
    "def generate_schema():\n",
    "\n",
    "    #Gather Specified widths by parsing the pdf located at link below:\n",
    "    file = \"https://s3.us-west-2.amazonaws.com/wakegov.com.if-us-west-2/prod/documents/2020-10/Record%20Layout.pdf\"\n",
    "\n",
    "    tables = tabula.read_pdf(file, pages=1, multiple_tables=True)\n",
    "    \n",
    "    #Concat tables\n",
    "    tblAll = pd.concat([tables[0], tables[1]])\n",
    "    \n",
    "    #Generate lists to parse\n",
    "    start = tblAll['Start'].to_list()\n",
    "    end = (tblAll['Start'] + tblAll['Width'] - 1).to_list()\n",
    "    col_name = tblAll['Field Name'].to_list()\n",
    "    \n",
    "    #Generate schema for Dataframe\n",
    "    schema\n",
    "    \n",
    "    return schema"
   ]
  },
  {
   "cell_type": "code",
   "execution_count": 69,
   "metadata": {},
   "outputs": [],
   "source": [
    "start, end, col_name = generate_schema()"
   ]
  },
  {
   "cell_type": "code",
   "execution_count": 70,
   "metadata": {},
   "outputs": [],
   "source": [
    "#Start Spark Session\n",
    "spark = SparkSession.builder.master(\"local[*]\").appName('land-finder').getOrCreate()"
   ]
  },
  {
   "cell_type": "code",
   "execution_count": 87,
   "metadata": {},
   "outputs": [],
   "source": [
    "#Load in dataset\n",
    "df = spark.read.text(\"RealEstData06232022.txt\")"
   ]
  },
  {
   "cell_type": "code",
   "execution_count": 89,
   "metadata": {},
   "outputs": [],
   "source": [
    "for (st, e, fn) in zip(start, end, col_name):\n",
    "    df = df.withColumn(fn, df.value.substr(st, e))"
   ]
  },
  {
   "cell_type": "code",
   "execution_count": 95,
   "metadata": {},
   "outputs": [
    {
     "name": "stdout",
     "output_type": "stream",
     "text": [
      "+--------------------+--------------------+\n",
      "|             Owner 1|         Street Name|\n",
      "+--------------------+--------------------+\n",
      "|NORTHGATE PROPERT...|WAKE FOREST      ...|\n",
      "|BONES 13 LLC     ...|TRIANGLE         ...|\n",
      "|BONES 13 LLC     ...|TRIANGLE         ...|\n",
      "|HARRISPARK PROPER...|WAKE FOREST      ...|\n",
      "|MOGHADASS, INC   ...|CAPITAL          ...|\n",
      "|RALEIGH CITY OF  ...|BAILEY           ...|\n",
      "|SKS PROPERTIES   ...|CHAMBERLAIN      ...|\n",
      "|N C BEER WHOLESAL...|PERSON           ...|\n",
      "|MICKENS, ROBERT E...|BERTIE           ...|\n",
      "|COREY, JAMES CURT...|PROVIDENCE       ...|\n",
      "|WOMBLE, GEORGE M ...|LAKESIDE         ...|\n",
      "|MILLETTE, DAVID P...|MARSHBURN        ...|\n",
      "|E&M MERCH INC    ...|JONES FRANKLIN   ...|\n",
      "|ABBOTT, L FAITH  ...|BENNETT          ...|\n",
      "|ABBOTT, GEORGE F ...|LAKE             ...|\n",
      "|ABBOTT, HUBERT   ...|WOODLAND         ...|\n",
      "|MERTZ, DERRICK & ...|DIXIE            ...|\n",
      "|RALEIGH CUSTOM RE...|HARPS MILL       ...|\n",
      "|CONNELL, RALPH E ...|BRANDYWINE       ...|\n",
      "|DEN BLEYKER, ROBE...|BRANDYWINE       ...|\n",
      "+--------------------+--------------------+\n",
      "only showing top 20 rows\n",
      "\n"
     ]
    }
   ],
   "source": [
    "#df.show(1)\n",
    "df.select(\"Owner 1\", \"Street Name\").show()"
   ]
  },
  {
   "cell_type": "code",
   "execution_count": 97,
   "metadata": {},
   "outputs": [],
   "source": [
    "spark.stop()"
   ]
  },
  {
   "cell_type": "code",
   "execution_count": null,
   "metadata": {},
   "outputs": [],
   "source": []
  }
 ],
 "metadata": {
  "kernelspec": {
   "display_name": "Python 3",
   "language": "python",
   "name": "python3"
  },
  "language_info": {
   "codemirror_mode": {
    "name": "ipython",
    "version": 3
   },
   "file_extension": ".py",
   "mimetype": "text/x-python",
   "name": "python",
   "nbconvert_exporter": "python",
   "pygments_lexer": "ipython3",
   "version": "3.7.6"
  }
 },
 "nbformat": 4,
 "nbformat_minor": 4
}
