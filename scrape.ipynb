{
 "cells": [
  {
   "cell_type": "code",
   "execution_count": 41,
   "metadata": {},
   "outputs": [],
   "source": [
    "import os\n",
    "from zipfile import ZipFile\n",
    "from datetime import date"
   ]
  },
  {
   "cell_type": "code",
   "execution_count": 36,
   "metadata": {},
   "outputs": [],
   "source": [
    "def scrape_HC():\n",
    "    \"\"\"\n",
    "    This function is used to scrape property data from HC\n",
    "    \"\"\"\n",
    "    #Get data from website and save to current dir\n",
    "    data_url = \"https://gis.harnett.org/DataDownloads/Shapefile/TaxParcels.zip\"\n",
    "    os.system(f\"wget {data_url}\")\n",
    "    print(f\"Extracted data from: {data_url}\")\n",
    "    \n",
    "    #Extract file from zip\n",
    "    zip_name = \"TaxParcels.zip\"\n",
    "    file_name = \"TaxParcels.dbf\"\n",
    "    \n",
    "    with ZipFile(zip_name, 'r') as zip:\n",
    "        print(f\"Extracting: {file_name}\")\n",
    "        zip.extract(file_name)\n",
    "    \n",
    "    #Remove original zip file from dir\n",
    "    print(\"Removing zip file from dir\")\n",
    "    os.system(f\"rm ./{zip_name}\")\n",
    "    \n",
    "    #Rename dataset to specify day of collect\n",
    "    export_name = f\"{date.today()}_HC_raw.dbf\"\n",
    "    os.system(f\"mv ./{filename} ./{export_name}\")\n",
    "    \n",
    "    print(\"Scrape Complete\")"
   ]
  },
  {
   "cell_type": "code",
   "execution_count": 38,
   "metadata": {},
   "outputs": [],
   "source": [
    "def scrape_JC():\n",
    "    \"\"\"\n",
    "    This function is used to scrape property data from JC\n",
    "    \"\"\"\n",
    "    #Get data from website and save to current dir\n",
    "    data_url = \"https://www.johnstonnc.com/files/gis/files/Tax_Assessment_Attributes.zip\"\n",
    "    os.system(f\"wget {data_url}\")\n",
    "    print(f\"Extracted data from: {data_url}\")\n",
    "    \n",
    "    #Extract file from zip\n",
    "    zip_name = \"Tax_Assessment_Attributes.zip\"\n",
    "    file_name = \"taxatt.xlsx\"\n",
    "    \n",
    "    with ZipFile(zip_name, 'r') as zip:\n",
    "        print(f\"Extracting {file_name}\")\n",
    "        zip.extract(file_name)\n",
    "        \n",
    "    #Remove original zip file from dir\n",
    "    print(\"Removing zip file from dir\")\n",
    "    os.system(f\"mv ./{zip_name}\")\n",
    "    \n",
    "    #Rename dataset to specify day of collect\n",
    "    export_name = f\"{date.today()}_JC_raw.xlsx\"\n",
    "    os.system(f\"mv ./{filename} ./{export_name}\")\n",
    "    \n",
    "    print(\"Scrape Complete\")"
   ]
  },
  {
   "cell_type": "code",
   "execution_count": null,
   "metadata": {},
   "outputs": [],
   "source": [
    "def scrape_WC():\n",
    "    \"\"\"\n",
    "    This function is used to scrape property data from WC\n",
    "    \"\"\"\n",
    "    #Get data from website and save to current dir\n",
    "    data_url = \"https://services.wakegov.com/realdata_extracts/RealEstData06232022.txt\"\n",
    "    os.system(f\"wget {data_url}\")\n",
    "    print(f\"Extracted data from: {data_url}\")\n",
    "    \n",
    "    #Rename dataset to specify day of collect\n",
    "    export_name = f\"{date.today()}_HC_raw.txt\"\n",
    "    os.system(f\"mv ./{filename} ./{export_name}\")\n",
    "    \n",
    "    print(\"Scrape Complete\")"
   ]
  }
 ],
 "metadata": {
  "kernelspec": {
   "display_name": "Python 3",
   "language": "python",
   "name": "python3"
  },
  "language_info": {
   "codemirror_mode": {
    "name": "ipython",
    "version": 3
   },
   "file_extension": ".py",
   "mimetype": "text/x-python",
   "name": "python",
   "nbconvert_exporter": "python",
   "pygments_lexer": "ipython3",
   "version": "3.7.6"
  }
 },
 "nbformat": 4,
 "nbformat_minor": 4
}
